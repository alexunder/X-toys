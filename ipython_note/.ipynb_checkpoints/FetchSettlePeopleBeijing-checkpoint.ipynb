{
 "cells": [
  {
   "cell_type": "code",
   "execution_count": 3,
   "metadata": {},
   "outputs": [
    {
     "ename": "SyntaxError",
     "evalue": "invalid syntax (<ipython-input-3-ce990085f922>, line 1)",
     "output_type": "error",
     "traceback": [
      "\u001b[0;36m  File \u001b[0;32m\"<ipython-input-3-ce990085f922>\"\u001b[0;36m, line \u001b[0;32m1\u001b[0m\n\u001b[0;31m    import csvimport urllib.request\u001b[0m\n\u001b[0m                          ^\u001b[0m\n\u001b[0;31mSyntaxError\u001b[0m\u001b[0;31m:\u001b[0m invalid syntax\n"
     ]
    }
   ],
   "source": [
    "import csvimport urllib.request\n",
    "import csv\n",
    "\n",
    "import json\n",
    "\n",
    "url = 'http://www.bjrbj.gov.cn/integralpublic/settlePerson/settlePersonJson?sort=pxid&order=asc&limit=1000&offset=0&name=&rows=1000&page=0&_=1539675850318'\n",
    "\n",
    "\n",
    "Cookie = 'JSESSIONID=TVh7ys10DYfn8c29CWi62fg4xF0LfimxwbBtfHURakBAhcb1VOln!1660571454; UqZBpD3n3n2ZW104sQY@=v1DsaGSQ@@jQV; _gscu_2065735475=80925151vi0g0e97; _gscbrs_2065735475=1; _trs_uv=jnbev26f_365_7ltn; UqZBpD3n3n2FT00@=v1R8aGSQ@@SQC; _gscu_2145764248=39679145fbpzdl25; _gscbrs_2145764248=1; _gscs_2145764248=39679145ssq1pd25|pv:1; _gscs_2065735475=t396791452qnhsx25|pv:1; _trs_ua_s_1=jnbh7kw2_365_9fx6'\n",
    "\n",
    "headers = { 'User-agent': 'Mozilla/5.0 (Windows NT 10.0; WOW64) AppleWebKit/537.36 (KHTML, like Gecko) Chrome/51.0.2704.106 Safari/537.36',\n",
    "            'Cookie': Cookie,\n",
    "            'Connection': 'keep-alive',\n",
    "            'Accept': 'application/json, text/javascript, */*; q=0.01',\n",
    "            'Accept-Encoding': 'gzip, deflate',\n",
    "            'Accept-Language': 'en-US,en;q=0.9,zh-CN;q=0.8,zh;q=0.7,zh-TW;q=0.6,de;q=0.5',\n",
    "            'Host': 'www.bjrbj.gov.cn',\n",
    "            'Referer': 'http://www.bjrbj.gov.cn/integralpublic/settleperson/settlePersonTable/' }\n",
    "\n",
    "base = 'http://www.bjrbj.gov.cn/integralpublic/settlePerson/settlePersonJson?sort=pxid&order=asc&'\n",
    "\n",
    "page_size = 100\n",
    "\n",
    "limit_int = page_size\n",
    "limit_str = 'limit=' + str(limit_int)\n",
    "\n",
    "offset_str = '&offset='\n",
    "offset_int = 0\n",
    "\n",
    "name_str = '&name='\n",
    "\n",
    "\n",
    "rows_int = page_size\n",
    "rows_str = '&rows=' + str(rows_int)\n",
    "\n",
    "pages_str = '&page='\n",
    "pages_int = 0\n",
    "\n",
    "tails = '&_=1539675850320'\n",
    "\n",
    "total = 0\n",
    "\n",
    "settlePeople = open('SettleDataAll.csv', 'w')\n",
    "csvwriter = csv.writer(settlePeople)\n",
    "\n",
    "headers = ['id','Name','IdCard','Score','Unit']\n",
    "\n",
    "while True:\n",
    "    url = base + limit_str + offset_str + str(offset_int) + name_str + rows_str + pages_str + str(pages_int) + tails\n",
    "    print(\"url=\" + url)\n",
    "    req = urllib.request.Request(url, None, headers)\n",
    "    response = urllib.request.urlopen(req)\n",
    "    content = response.read()\n",
    "    json_buffer = json.loads(content.decode('gbk', 'ignore'))\n",
    "    \n",
    "    #print(json_buffer['rows'])\n",
    "    for i in json_buffer['rows']:\n",
    "        data = [i['pxid'], i['name'], i['idCard'], i['score'], i['unit']]\n",
    "        csvwriter.writerow(data)\n",
    "\n",
    "    total = total + 1\n",
    "    offset_int += page_size\n",
    "    pages_int += page_size\n",
    "    print(\"total pages=\" + str(json_buffer['totalPages']))\n",
    "    print(\"total=\" + str(total))\n",
    "    #totalp = json_buffer['totalPages']\n",
    "    #print(str(type(json_buffer['totalPages'])))\n",
    "    if total >= json_buffer['totalPages']:\n",
    "        break\n",
    "\n",
    "settlePeople.close()"
   ]
  },
  {
   "cell_type": "code",
   "execution_count": null,
   "metadata": {
    "collapsed": true
   },
   "outputs": [],
   "source": []
  }
 ],
 "metadata": {
  "kernelspec": {
   "display_name": "Python 3",
   "language": "python",
   "name": "python3"
  },
  "language_info": {
   "codemirror_mode": {
    "name": "ipython",
    "version": 3
   },
   "file_extension": ".py",
   "mimetype": "text/x-python",
   "name": "python",
   "nbconvert_exporter": "python",
   "pygments_lexer": "ipython3",
   "version": "3.6.2"
  }
 },
 "nbformat": 4,
 "nbformat_minor": 2
}
